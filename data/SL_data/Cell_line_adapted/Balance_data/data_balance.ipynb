{
 "cells": [
  {
   "cell_type": "code",
   "execution_count": 96,
   "metadata": {},
   "outputs": [],
   "source": [
    "import pandas as pd\n",
    "import numpy as np"
   ]
  },
  {
   "cell_type": "code",
   "execution_count": 109,
   "metadata": {},
   "outputs": [],
   "source": [
    "cell='A549'\n",
    "cv='C1'\n",
    "for i in range(5):\n",
    "    np.random.seed(42+i)\n",
    "    sl_train=pd.read_csv(f\"/home/siyutao/SL/LukePi_2.0/cell_line/KG_Sequence/SL_data/MVGCNdata/{cell}/{cv}/sl_train_{i}.csv\")\n",
    "    sl_test=pd.read_csv(f\"/home/siyutao/SL/LukePi_2.0/cell_line/KG_Sequence/SL_data/MVGCNdata/{cell}/{cv}/sl_test_{i}.csv\")\n",
    "    # sample for train data #\n",
    "    sl_pos=sl_train[sl_train['3']==1]\n",
    "    sl_neg=sl_train[sl_train['3']==0]\n",
    "    sl_pos.reset_index(drop=True,inplace=True)\n",
    "    sl_neg.reset_index(drop=True,inplace=True)\n",
    "    neg_index=list(range(sl_neg.shape[0]))\n",
    "    sampled_neg_index=np.random.choice(neg_index,sl_pos.shape[0],replace=False)\n",
    "    sampled_slneg=sl_neg.loc[sampled_neg_index]\n",
    "    # sample for test data #\n",
    "    sl_testpos=sl_test[sl_test['3']==1]\n",
    "    sl_testneg=sl_test[sl_test['3']==0]\n",
    "    sl_testpos.reset_index(drop=True,inplace=True)\n",
    "    sl_testneg.reset_index(drop=True,inplace=True)\n",
    "    testneg_index=list(range(sl_testneg.shape[0]))\n",
    "    testsampled_neg_index=np.random.choice(testneg_index,sl_testpos.shape[0],replace=False)\n",
    "    testsampled_slneg=sl_testneg.loc[testsampled_neg_index]\n",
    "\n",
    "    # store train data \n",
    "    newsltrain=pd.concat([sampled_slneg,sl_pos])\n",
    "    newsltrain.reset_index(drop=True)\n",
    "    newsltrain.to_csv(f\"/home/siyutao/SL/LukePi_2.0/cell_line/KG_Sequence/SL_data/MVGCNdata/Balance_data/{cell}_1_1/sl_train_{i}.csv\",index=False)\n",
    "\n",
    "    # store test data \n",
    "    newsltest=pd.concat([testsampled_slneg,sl_testpos])\n",
    "    newsltest.reset_index(drop=True)\n",
    "    newsltest.to_csv(f\"/home/siyutao/SL/LukePi_2.0/cell_line/KG_Sequence/SL_data/MVGCNdata/Balance_data/{cell}_1_1/sl_test_{i}.csv\",index=False)"
   ]
  },
  {
   "cell_type": "code",
   "execution_count": 105,
   "metadata": {},
   "outputs": [
    {
     "data": {
      "text/html": [
       "<div>\n",
       "<style scoped>\n",
       "    .dataframe tbody tr th:only-of-type {\n",
       "        vertical-align: middle;\n",
       "    }\n",
       "\n",
       "    .dataframe tbody tr th {\n",
       "        vertical-align: top;\n",
       "    }\n",
       "\n",
       "    .dataframe thead th {\n",
       "        text-align: right;\n",
       "    }\n",
       "</style>\n",
       "<table border=\"1\" class=\"dataframe\">\n",
       "  <thead>\n",
       "    <tr style=\"text-align: right;\">\n",
       "      <th></th>\n",
       "      <th>0</th>\n",
       "      <th>1</th>\n",
       "      <th>2</th>\n",
       "      <th>3</th>\n",
       "    </tr>\n",
       "  </thead>\n",
       "  <tbody>\n",
       "    <tr>\n",
       "      <th>1769</th>\n",
       "      <td>2543</td>\n",
       "      <td>2043</td>\n",
       "      <td>1</td>\n",
       "      <td>0</td>\n",
       "    </tr>\n",
       "    <tr>\n",
       "      <th>2831</th>\n",
       "      <td>3246</td>\n",
       "      <td>1558</td>\n",
       "      <td>1</td>\n",
       "      <td>0</td>\n",
       "    </tr>\n",
       "    <tr>\n",
       "      <th>1928</th>\n",
       "      <td>1034</td>\n",
       "      <td>1641</td>\n",
       "      <td>1</td>\n",
       "      <td>0</td>\n",
       "    </tr>\n",
       "    <tr>\n",
       "      <th>1662</th>\n",
       "      <td>337</td>\n",
       "      <td>116</td>\n",
       "      <td>1</td>\n",
       "      <td>0</td>\n",
       "    </tr>\n",
       "    <tr>\n",
       "      <th>837</th>\n",
       "      <td>3380</td>\n",
       "      <td>108</td>\n",
       "      <td>1</td>\n",
       "      <td>0</td>\n",
       "    </tr>\n",
       "    <tr>\n",
       "      <th>...</th>\n",
       "      <td>...</td>\n",
       "      <td>...</td>\n",
       "      <td>...</td>\n",
       "      <td>...</td>\n",
       "    </tr>\n",
       "    <tr>\n",
       "      <th>174</th>\n",
       "      <td>1016</td>\n",
       "      <td>3249</td>\n",
       "      <td>1</td>\n",
       "      <td>1</td>\n",
       "    </tr>\n",
       "    <tr>\n",
       "      <th>175</th>\n",
       "      <td>609</td>\n",
       "      <td>492</td>\n",
       "      <td>1</td>\n",
       "      <td>1</td>\n",
       "    </tr>\n",
       "    <tr>\n",
       "      <th>176</th>\n",
       "      <td>1600</td>\n",
       "      <td>78</td>\n",
       "      <td>1</td>\n",
       "      <td>1</td>\n",
       "    </tr>\n",
       "    <tr>\n",
       "      <th>177</th>\n",
       "      <td>492</td>\n",
       "      <td>749</td>\n",
       "      <td>1</td>\n",
       "      <td>1</td>\n",
       "    </tr>\n",
       "    <tr>\n",
       "      <th>178</th>\n",
       "      <td>492</td>\n",
       "      <td>78</td>\n",
       "      <td>1</td>\n",
       "      <td>1</td>\n",
       "    </tr>\n",
       "  </tbody>\n",
       "</table>\n",
       "<p>358 rows × 4 columns</p>\n",
       "</div>"
      ],
      "text/plain": [
       "         0     1  2  3\n",
       "1769  2543  2043  1  0\n",
       "2831  3246  1558  1  0\n",
       "1928  1034  1641  1  0\n",
       "1662   337   116  1  0\n",
       "837   3380   108  1  0\n",
       "...    ...   ... .. ..\n",
       "174   1016  3249  1  1\n",
       "175    609   492  1  1\n",
       "176   1600    78  1  1\n",
       "177    492   749  1  1\n",
       "178    492    78  1  1\n",
       "\n",
       "[358 rows x 4 columns]"
      ]
     },
     "execution_count": 105,
     "metadata": {},
     "output_type": "execute_result"
    }
   ],
   "source": [
    "newsltest"
   ]
  },
  {
   "cell_type": "code",
   "execution_count": null,
   "metadata": {},
   "outputs": [],
   "source": []
  },
  {
   "cell_type": "code",
   "execution_count": null,
   "metadata": {},
   "outputs": [],
   "source": []
  },
  {
   "cell_type": "code",
   "execution_count": null,
   "metadata": {},
   "outputs": [],
   "source": []
  },
  {
   "cell_type": "code",
   "execution_count": null,
   "metadata": {},
   "outputs": [],
   "source": []
  },
  {
   "cell_type": "code",
   "execution_count": null,
   "metadata": {},
   "outputs": [],
   "source": []
  },
  {
   "cell_type": "code",
   "execution_count": null,
   "metadata": {},
   "outputs": [],
   "source": []
  },
  {
   "cell_type": "code",
   "execution_count": null,
   "metadata": {},
   "outputs": [],
   "source": []
  },
  {
   "cell_type": "code",
   "execution_count": 87,
   "metadata": {},
   "outputs": [],
   "source": [
    "sl_train=pd.read_csv(f\"/home/siyutao/SL/LukePi_2.0/cell_line/KG_Sequence/SL_data/MVGCNdata_split_by_cell/{cell}/{cv}/sl_train_{i}.csv\")\n",
    "sl_test=pd.read_csv(f\"/home/siyutao/SL/LukePi_2.0/cell_line/KG_Sequence/SL_data/MVGCNdata_split_by_cell/{cell}/{cv}/sl_test_{i}.csv\")"
   ]
  },
  {
   "cell_type": "code",
   "execution_count": 90,
   "metadata": {},
   "outputs": [],
   "source": [
    "trainnodes=set(sl_train['0'])|set(sl_train['1'])\n",
    "testnodes=set(sl_test['0'])|set(sl_test['1'])"
   ]
  },
  {
   "cell_type": "code",
   "execution_count": 91,
   "metadata": {},
   "outputs": [
    {
     "data": {
      "text/plain": [
       "705"
      ]
     },
     "execution_count": 91,
     "metadata": {},
     "output_type": "execute_result"
    }
   ],
   "source": [
    "len(trainnodes)"
   ]
  },
  {
   "cell_type": "code",
   "execution_count": 92,
   "metadata": {},
   "outputs": [
    {
     "data": {
      "text/plain": [
       "755"
      ]
     },
     "execution_count": 92,
     "metadata": {},
     "output_type": "execute_result"
    }
   ],
   "source": [
    "len(testnodes)"
   ]
  },
  {
   "cell_type": "code",
   "execution_count": 95,
   "metadata": {},
   "outputs": [
    {
     "data": {
      "text/plain": [
       "159"
      ]
     },
     "execution_count": 95,
     "metadata": {},
     "output_type": "execute_result"
    }
   ],
   "source": [
    "len(testnodes&trainnodes)"
   ]
  },
  {
   "cell_type": "code",
   "execution_count": null,
   "metadata": {},
   "outputs": [],
   "source": []
  }
 ],
 "metadata": {
  "kernelspec": {
   "display_name": "PRESL",
   "language": "python",
   "name": "python3"
  },
  "language_info": {
   "codemirror_mode": {
    "name": "ipython",
    "version": 3
   },
   "file_extension": ".py",
   "mimetype": "text/x-python",
   "name": "python",
   "nbconvert_exporter": "python",
   "pygments_lexer": "ipython3",
   "version": "3.10.6"
  }
 },
 "nbformat": 4,
 "nbformat_minor": 2
}
