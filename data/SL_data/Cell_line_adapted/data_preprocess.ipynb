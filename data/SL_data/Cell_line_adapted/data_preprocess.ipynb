{
 "cells": [
  {
   "cell_type": "code",
   "execution_count": 28,
   "metadata": {},
   "outputs": [],
   "source": [
    "import pandas as pd\n",
    "import numpy as np"
   ]
  },
  {
   "cell_type": "code",
   "execution_count": 29,
   "metadata": {},
   "outputs": [],
   "source": [
    "jurkat=pd.read_csv(\"/home/siyutao/SL/LukePi_2.0/cell_line/KG_Sequence/SL_data/MVGCNdata/Jurkat/Jurkat_GIscore_57291.csv\")\n",
    "a375=pd.read_csv(\"/home/siyutao/SL/LukePi_2.0/cell_line/KG_Sequence/SL_data/MVGCNdata/A375/A375_GIscore_534.csv\")\n",
    "a549=pd.read_csv(\"/home/siyutao/SL/LukePi_2.0/cell_line/KG_Sequence/SL_data/MVGCNdata/A549/A549_GIscore_4425.csv\")"
   ]
  },
  {
   "cell_type": "code",
   "execution_count": 30,
   "metadata": {},
   "outputs": [],
   "source": [
    "dfjur=jurkat[['gene1_primekgindex','gene2_primekgindex','cell_id','label']]\n",
    "df375=a375[['gene1_primekg_index','gene2_primekg_index','cell_id','label']]\n",
    "df549=a549[['gene1_primekg_index','gene2_primekg_index','cell_id','label']]"
   ]
  },
  {
   "cell_type": "code",
   "execution_count": 31,
   "metadata": {},
   "outputs": [],
   "source": [
    "dfjur.columns=list(range(4))\n",
    "df375.columns=list(range(4))\n",
    "df549.columns=list(range(4))"
   ]
  },
  {
   "cell_type": "code",
   "execution_count": 32,
   "metadata": {},
   "outputs": [],
   "source": [
    "sltrain=pd.concat([df375,df549])\n",
    "sltrain.reset_index(drop=True,inplace=True)\n"
   ]
  },
  {
   "cell_type": "code",
   "execution_count": 33,
   "metadata": {},
   "outputs": [
    {
     "data": {
      "text/html": [
       "<div>\n",
       "<style scoped>\n",
       "    .dataframe tbody tr th:only-of-type {\n",
       "        vertical-align: middle;\n",
       "    }\n",
       "\n",
       "    .dataframe tbody tr th {\n",
       "        vertical-align: top;\n",
       "    }\n",
       "\n",
       "    .dataframe thead th {\n",
       "        text-align: right;\n",
       "    }\n",
       "</style>\n",
       "<table border=\"1\" class=\"dataframe\">\n",
       "  <thead>\n",
       "    <tr style=\"text-align: right;\">\n",
       "      <th></th>\n",
       "      <th>0</th>\n",
       "      <th>1</th>\n",
       "      <th>2</th>\n",
       "      <th>3</th>\n",
       "    </tr>\n",
       "  </thead>\n",
       "  <tbody>\n",
       "    <tr>\n",
       "      <th>0</th>\n",
       "      <td>1675</td>\n",
       "      <td>9555</td>\n",
       "      <td>2</td>\n",
       "      <td>0.0</td>\n",
       "    </tr>\n",
       "    <tr>\n",
       "      <th>1</th>\n",
       "      <td>1675</td>\n",
       "      <td>3050</td>\n",
       "      <td>2</td>\n",
       "      <td>0.0</td>\n",
       "    </tr>\n",
       "    <tr>\n",
       "      <th>2</th>\n",
       "      <td>1675</td>\n",
       "      <td>8511</td>\n",
       "      <td>2</td>\n",
       "      <td>0.0</td>\n",
       "    </tr>\n",
       "    <tr>\n",
       "      <th>3</th>\n",
       "      <td>1675</td>\n",
       "      <td>57018</td>\n",
       "      <td>2</td>\n",
       "      <td>0.0</td>\n",
       "    </tr>\n",
       "    <tr>\n",
       "      <th>4</th>\n",
       "      <td>1675</td>\n",
       "      <td>7291</td>\n",
       "      <td>2</td>\n",
       "      <td>0.0</td>\n",
       "    </tr>\n",
       "    <tr>\n",
       "      <th>...</th>\n",
       "      <td>...</td>\n",
       "      <td>...</td>\n",
       "      <td>...</td>\n",
       "      <td>...</td>\n",
       "    </tr>\n",
       "    <tr>\n",
       "      <th>57286</th>\n",
       "      <td>8782</td>\n",
       "      <td>6714</td>\n",
       "      <td>2</td>\n",
       "      <td>0.0</td>\n",
       "    </tr>\n",
       "    <tr>\n",
       "      <th>57287</th>\n",
       "      <td>8782</td>\n",
       "      <td>34671</td>\n",
       "      <td>2</td>\n",
       "      <td>0.0</td>\n",
       "    </tr>\n",
       "    <tr>\n",
       "      <th>57288</th>\n",
       "      <td>13712</td>\n",
       "      <td>6714</td>\n",
       "      <td>2</td>\n",
       "      <td>0.0</td>\n",
       "    </tr>\n",
       "    <tr>\n",
       "      <th>57289</th>\n",
       "      <td>13712</td>\n",
       "      <td>34671</td>\n",
       "      <td>2</td>\n",
       "      <td>0.0</td>\n",
       "    </tr>\n",
       "    <tr>\n",
       "      <th>57290</th>\n",
       "      <td>6714</td>\n",
       "      <td>34671</td>\n",
       "      <td>2</td>\n",
       "      <td>0.0</td>\n",
       "    </tr>\n",
       "  </tbody>\n",
       "</table>\n",
       "<p>57291 rows × 4 columns</p>\n",
       "</div>"
      ],
      "text/plain": [
       "           0      1  2    3\n",
       "0       1675   9555  2  0.0\n",
       "1       1675   3050  2  0.0\n",
       "2       1675   8511  2  0.0\n",
       "3       1675  57018  2  0.0\n",
       "4       1675   7291  2  0.0\n",
       "...      ...    ... ..  ...\n",
       "57286   8782   6714  2  0.0\n",
       "57287   8782  34671  2  0.0\n",
       "57288  13712   6714  2  0.0\n",
       "57289  13712  34671  2  0.0\n",
       "57290   6714  34671  2  0.0\n",
       "\n",
       "[57291 rows x 4 columns]"
      ]
     },
     "execution_count": 33,
     "metadata": {},
     "output_type": "execute_result"
    }
   ],
   "source": [
    "sltest=dfjur\n",
    "sltest"
   ]
  },
  {
   "cell_type": "code",
   "execution_count": 35,
   "metadata": {},
   "outputs": [],
   "source": [
    "sltrain.to_csv(\"/home/siyutao/SL/LukePi_2.0/cell_line/KG_Sequence/SL_data/MVGCNdata_split_by_cell/A375_A549/C2/sl_train_0.csv\",index=False)\n",
    "sltest.to_csv(\"/home/siyutao/SL/LukePi_2.0/cell_line/KG_Sequence/SL_data/MVGCNdata_split_by_cell/A375_A549/C2/sl_test_0.csv\",index=False)"
   ]
  },
  {
   "cell_type": "code",
   "execution_count": null,
   "metadata": {},
   "outputs": [],
   "source": []
  },
  {
   "cell_type": "code",
   "execution_count": null,
   "metadata": {},
   "outputs": [],
   "source": []
  },
  {
   "cell_type": "code",
   "execution_count": null,
   "metadata": {},
   "outputs": [],
   "source": []
  },
  {
   "cell_type": "code",
   "execution_count": null,
   "metadata": {},
   "outputs": [],
   "source": []
  }
 ],
 "metadata": {
  "kernelspec": {
   "display_name": "PRESL",
   "language": "python",
   "name": "python3"
  },
  "language_info": {
   "codemirror_mode": {
    "name": "ipython",
    "version": 3
   },
   "file_extension": ".py",
   "mimetype": "text/x-python",
   "name": "python",
   "nbconvert_exporter": "python",
   "pygments_lexer": "ipython3",
   "version": "3.10.6"
  }
 },
 "nbformat": 4,
 "nbformat_minor": 2
}
